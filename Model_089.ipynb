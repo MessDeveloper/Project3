{
 "cells": [
  {
   "cell_type": "code",
   "execution_count": 1,
   "id": "10a81f29-9e4f-45fe-a757-3f99e50ddc58",
   "metadata": {
    "scrolled": true,
    "tags": []
   },
   "outputs": [
    {
     "name": "stderr",
     "output_type": "stream",
     "text": [
      "2024-02-26 16:53:51.173974: I external/local_tsl/tsl/cuda/cudart_stub.cc:31] Could not find cuda drivers on your machine, GPU will not be used.\n",
      "2024-02-26 16:53:51.213364: E external/local_xla/xla/stream_executor/cuda/cuda_dnn.cc:9261] Unable to register cuDNN factory: Attempting to register factory for plugin cuDNN when one has already been registered\n",
      "2024-02-26 16:53:51.213391: E external/local_xla/xla/stream_executor/cuda/cuda_fft.cc:607] Unable to register cuFFT factory: Attempting to register factory for plugin cuFFT when one has already been registered\n",
      "2024-02-26 16:53:51.214442: E external/local_xla/xla/stream_executor/cuda/cuda_blas.cc:1515] Unable to register cuBLAS factory: Attempting to register factory for plugin cuBLAS when one has already been registered\n",
      "2024-02-26 16:53:51.220042: I external/local_tsl/tsl/cuda/cudart_stub.cc:31] Could not find cuda drivers on your machine, GPU will not be used.\n",
      "2024-02-26 16:53:51.220431: I tensorflow/core/platform/cpu_feature_guard.cc:182] This TensorFlow binary is optimized to use available CPU instructions in performance-critical operations.\n",
      "To enable the following instructions: AVX2 FMA, in other operations, rebuild TensorFlow with the appropriate compiler flags.\n",
      "2024-02-26 16:53:52.040948: W tensorflow/compiler/tf2tensorrt/utils/py_utils.cc:38] TF-TRT Warning: Could not find TensorRT\n"
     ]
    }
   ],
   "source": [
    "import numpy as np\n",
    "import pandas as pd\n",
    "import tensorflow as tf\n",
    "from sklearn.preprocessing import MinMaxScaler\n",
    "from tensorflow.keras.models import Sequential\n",
    "from tensorflow.keras.layers import Dense, Input, Dropout\n",
    "from tensorflow.keras.utils import to_categorical\n",
    "from tensorflow.keras.callbacks import EarlyStopping"
   ]
  },
  {
   "cell_type": "code",
   "execution_count": 2,
   "id": "6758990f-1081-45cb-990c-a0b1cd19a8bb",
   "metadata": {},
   "outputs": [
    {
     "name": "stdout",
     "output_type": "stream",
     "text": [
      "Running on 1 Replica(s)\n"
     ]
    }
   ],
   "source": [
    "# Configuración de TPU (Opcional)\n",
    "try:\n",
    "    tpu = tf.distribute.cluster_resolver.TPUClusterResolver.connect()\n",
    "    strategy = tf.distribute.TPUStrategy(tpu)\n",
    "    print('Running on TPU ', tpu.master())\n",
    "except ValueError:\n",
    "    strategy = tf.distribute.get_strategy()  # CPU or single GPU\n",
    "    print('Running on', strategy.num_replicas_in_sync, 'Replica(s)')"
   ]
  },
  {
   "cell_type": "code",
   "execution_count": 3,
   "id": "ce148a25-04a8-4b50-bdc5-a126ef404910",
   "metadata": {},
   "outputs": [],
   "source": [
    "# Cargando los datos\n",
    "data = './Data/Imputed_DF_DTR.csv'  # Asegúrate de que la ruta al archivo es correcta\n",
    "df = pd.read_csv(data)"
   ]
  },
  {
   "cell_type": "code",
   "execution_count": 4,
   "id": "5d28a970-7d79-4901-ac4f-24c219054825",
   "metadata": {},
   "outputs": [],
   "source": [
    "# Crea una copia de seguridad del DataFrame original\n",
    "df_original = df.copy()"
   ]
  },
  {
   "cell_type": "code",
   "execution_count": 41,
   "id": "26c3f8fe-ac34-449e-bccf-84e2a445e4bf",
   "metadata": {},
   "outputs": [
    {
     "data": {
      "text/plain": [
       "(1197994, 38)"
      ]
     },
     "execution_count": 41,
     "metadata": {},
     "output_type": "execute_result"
    }
   ],
   "source": [
    "df_original.shape"
   ]
  },
  {
   "cell_type": "code",
   "execution_count": 42,
   "id": "a28bb435-3e32-4318-a0d8-e085560e7f25",
   "metadata": {},
   "outputs": [
    {
     "name": "stdout",
     "output_type": "stream",
     "text": [
      "Index(['CICLO', 'FACTOREL', 'AOI', 'DISP', 'ITBU', 'TRAREM', 'CURSNR', 'CURSR',\n",
      "       'NFORMA', 'NAC1', 'ECIV1', 'EDADN', 'CCAA', 'NPADRE', 'NMADRE', 'PROV',\n",
      "       'NCONY', 'SEXO1', 'NVIVI', 'RELPP1', 'NIVEL', 'NPERS', 'OFEMP',\n",
      "       'EDADEST', 'SIDAC1', 'SIDAC2', 'FOBACT', 'ASALA', 'MUN1', 'EMBUS',\n",
      "       'PRONA1', 'AUSENT', 'AYUDFA', 'EMPANT', 'BUSCA', 'SIDI1', 'NUEVEM',\n",
      "       'DTANT'],\n",
      "      dtype='object')\n"
     ]
    }
   ],
   "source": [
    "print(df_original.columns)"
   ]
  },
  {
   "cell_type": "code",
   "execution_count": 5,
   "id": "5f54097b-8b56-41c1-952e-63514c41471e",
   "metadata": {},
   "outputs": [],
   "source": [
    "# Función para eliminar outliers basados en el IQR de todas las columnas numéricas\n",
    "def eliminar_outliers(df):\n",
    "    for columna in df.select_dtypes(include=['float64', 'int64']).columns:\n",
    "        Q1 = df[columna].quantile(0.25)\n",
    "        Q3 = df[columna].quantile(0.75)\n",
    "        IQR = Q3 - Q1\n",
    "        limite_inferior = Q1 - 1.5 * IQR\n",
    "        limite_superior = Q3 + 1.5 * IQR\n",
    "\n",
    "        df = df[(df[columna] >= limite_inferior) & (df[columna] <= limite_superior)]\n",
    "        \n",
    "    return df"
   ]
  },
  {
   "cell_type": "code",
   "execution_count": 6,
   "id": "af09d9ac-db55-4ebc-9b80-33b03dd130af",
   "metadata": {},
   "outputs": [],
   "source": [
    "# Elimina outliers en todas las columnas numéricas utilizando la copia del DataFrame\n",
    "df_limpio1 = eliminar_outliers(df_original.copy())"
   ]
  },
  {
   "cell_type": "code",
   "execution_count": 7,
   "id": "ee37ae45-453e-4b3c-8b96-9f3c87607bad",
   "metadata": {},
   "outputs": [
    {
     "name": "stdout",
     "output_type": "stream",
     "text": [
      "Tamaño original del DataFrame: (1197994, 38)\n",
      "Tamaño del DataFrame después de eliminar outliers: (295258, 38)\n"
     ]
    }
   ],
   "source": [
    "# Muestra el tamaño del DataFrame antes y después de la eliminación de outliers\n",
    "print(\"Tamaño original del DataFrame:\", df_original.shape)\n",
    "print(\"Tamaño del DataFrame después de eliminar outliers:\", df_limpio1.shape)"
   ]
  },
  {
   "cell_type": "code",
   "execution_count": 8,
   "id": "bbbb7fb7-3db3-49c3-8870-555c7c202b0f",
   "metadata": {},
   "outputs": [],
   "source": [
    "# Paso 1: Manejo de valores 0 o negativos antes de aplicar log\n",
    "df_limpio = np.log1p(df_limpio1.select_dtypes(include=['float64', 'int64']))"
   ]
  },
  {
   "cell_type": "code",
   "execution_count": 9,
   "id": "23390929-f7ef-472c-813e-79ac3ed200ce",
   "metadata": {},
   "outputs": [],
   "source": [
    "# Añadir de nuevo las columnas no numéricas (si las hay)\n",
    "df_limpio = df_limpio.join(df_original.select_dtypes(exclude=['float64', 'int64']))"
   ]
  },
  {
   "cell_type": "code",
   "execution_count": 10,
   "id": "35e8fe95-c138-4aa1-9f03-d3e48f5fa7ae",
   "metadata": {},
   "outputs": [],
   "source": [
    "# Paso 2: Verificación y limpieza de valores infinitos o NaN después de aplicar log\n",
    "df_limpio.replace([np.inf, -np.inf], np.nan, inplace=True)\n",
    "df_limpio.fillna(df_limpio.mean(), inplace=True)  # Reemplazar NaN por la media"
   ]
  },
  {
   "cell_type": "code",
   "execution_count": 11,
   "id": "8e661a36-a3fe-4450-887f-1955b3f2c857",
   "metadata": {},
   "outputs": [
    {
     "name": "stdout",
     "output_type": "stream",
     "text": [
      "(295258, 37) (295258,)\n"
     ]
    }
   ],
   "source": [
    "# Preparación de los datos\n",
    "X = df_limpio.drop(\"ITBU\", axis = 1)\n",
    "y = df_limpio1['ITBU'] - 1\n",
    "\n",
    "print(X.shape, y.shape)"
   ]
  },
  {
   "cell_type": "code",
   "execution_count": 12,
   "id": "6f9f6931-482c-4ae7-b7b8-49476c3e6d5b",
   "metadata": {},
   "outputs": [
    {
     "data": {
      "text/plain": [
       "ITBU\n",
       "6.0    55574\n",
       "3.0    44975\n",
       "7.0    41794\n",
       "1.0    40501\n",
       "2.0    37859\n",
       "4.0    31914\n",
       "5.0    25745\n",
       "0.0    16896\n",
       "Name: count, dtype: int64"
      ]
     },
     "execution_count": 12,
     "metadata": {},
     "output_type": "execute_result"
    }
   ],
   "source": [
    "y.value_counts()"
   ]
  },
  {
   "cell_type": "code",
   "execution_count": 13,
   "id": "1f76a10d-6cfc-47d1-8fae-bd4056f6bee1",
   "metadata": {},
   "outputs": [
    {
     "name": "stdout",
     "output_type": "stream",
     "text": [
      "(236206, 37) (236206,)\n",
      "(59052, 37) (59052,)\n"
     ]
    }
   ],
   "source": [
    "from sklearn.model_selection import train_test_split\n",
    "\n",
    "X_train, X_test, y_train, y_test = train_test_split(X, y, test_size = 0.2, random_state = 42)\n",
    "\n",
    "print(X_train.shape, y_train.shape)\n",
    "print(X_test.shape, y_test.shape)"
   ]
  },
  {
   "cell_type": "code",
   "execution_count": 14,
   "id": "6eb90fdd-a370-4a68-a7db-9c426de33650",
   "metadata": {},
   "outputs": [],
   "source": [
    "# Normalización de los datos\n",
    "scaler = MinMaxScaler()\n",
    "X_train = scaler.fit_transform(X_train)\n",
    "X_test = scaler.transform(X_test)"
   ]
  },
  {
   "cell_type": "code",
   "execution_count": 15,
   "id": "aadc6e1f-3cbe-4025-8bb7-938d79430465",
   "metadata": {},
   "outputs": [
    {
     "name": "stdout",
     "output_type": "stream",
     "text": [
      "(236206, 8) (59052, 8)\n"
     ]
    }
   ],
   "source": [
    "# OneHot encoding para la columna objetivo\n",
    "y_train = to_categorical(y_train)\n",
    "y_test = to_categorical(y_test)\n",
    "\n",
    "print(y_train.shape, y_test.shape)"
   ]
  },
  {
   "cell_type": "code",
   "execution_count": 16,
   "id": "9b6eba08-dacc-4e43-aa4d-ecd07449d637",
   "metadata": {},
   "outputs": [],
   "source": [
    "# Crear un Dataset usando tf.data\n",
    "def get_dataset(X, y, batch_size=10240):\n",
    "    dataset = tf.data.Dataset.from_tensor_slices((X, y))\n",
    "    dataset = dataset.cache().shuffle(len(X)).batch(batch_size).prefetch(tf.data.AUTOTUNE)\n",
    "    return dataset"
   ]
  },
  {
   "cell_type": "code",
   "execution_count": 17,
   "id": "f40120ac-cbb1-48de-9cd7-3a0a49d5b941",
   "metadata": {},
   "outputs": [
    {
     "name": "stderr",
     "output_type": "stream",
     "text": [
      "2024-02-26 16:53:59.933747: I external/local_xla/xla/stream_executor/cuda/cuda_executor.cc:901] successful NUMA node read from SysFS had negative value (-1), but there must be at least one NUMA node, so returning NUMA node zero. See more at https://github.com/torvalds/linux/blob/v6.0/Documentation/ABI/testing/sysfs-bus-pci#L344-L355\n",
      "2024-02-26 16:53:59.934375: W tensorflow/core/common_runtime/gpu/gpu_device.cc:2256] Cannot dlopen some GPU libraries. Please make sure the missing libraries mentioned above are installed properly if you would like to use GPU. Follow the guide at https://www.tensorflow.org/install/gpu for how to download and setup the required libraries for your platform.\n",
      "Skipping registering GPU devices...\n"
     ]
    }
   ],
   "source": [
    "# Convertir los datos a tf.data.Dataset\n",
    "dataset_train = get_dataset(X_train, y_train, batch_size=10240 * strategy.num_replicas_in_sync)\n",
    "dataset_test = get_dataset(X_test, y_test, batch_size=10240 * strategy.num_replicas_in_sync)"
   ]
  },
  {
   "cell_type": "code",
   "execution_count": 18,
   "id": "4738e874-0705-4731-bdc3-924067ffdc4d",
   "metadata": {},
   "outputs": [],
   "source": [
    "with strategy.scope():\n",
    "    # Definición de la red neuronal\n",
    "    model = Sequential([\n",
    "        Input(shape=(X.shape[1],)),\n",
    "        Dense(512, activation='relu'),\n",
    "        Dropout(0.5),\n",
    "        Dense(256, activation='relu'),\n",
    "        Dropout(0.5),\n",
    "        Dense(128, activation='relu'),\n",
    "        Dropout(0.5),\n",
    "        Dense(64, activation='relu'),\n",
    "        Dropout(0.5),\n",
    "        Dense(32, activation='relu'),\n",
    "        Dropout(0.5),\n",
    "        Dense(y_train.shape[1], activation='softmax')\n",
    "    ])"
   ]
  },
  {
   "cell_type": "code",
   "execution_count": 19,
   "id": "64705627-d7fb-485a-a970-d309a1d0c3b2",
   "metadata": {},
   "outputs": [],
   "source": [
    "# Compilación del modelo\n",
    "model.compile(loss='categorical_crossentropy', optimizer='adam', metrics=['accuracy'])"
   ]
  },
  {
   "cell_type": "code",
   "execution_count": 20,
   "id": "0400ac31-5f54-4cb6-a058-1f98ffa0ed7a",
   "metadata": {},
   "outputs": [
    {
     "name": "stdout",
     "output_type": "stream",
     "text": [
      "Model: \"sequential\"\n",
      "_________________________________________________________________\n",
      " Layer (type)                Output Shape              Param #   \n",
      "=================================================================\n",
      " dense (Dense)               (None, 512)               19456     \n",
      "                                                                 \n",
      " dropout (Dropout)           (None, 512)               0         \n",
      "                                                                 \n",
      " dense_1 (Dense)             (None, 256)               131328    \n",
      "                                                                 \n",
      " dropout_1 (Dropout)         (None, 256)               0         \n",
      "                                                                 \n",
      " dense_2 (Dense)             (None, 128)               32896     \n",
      "                                                                 \n",
      " dropout_2 (Dropout)         (None, 128)               0         \n",
      "                                                                 \n",
      " dense_3 (Dense)             (None, 64)                8256      \n",
      "                                                                 \n",
      " dropout_3 (Dropout)         (None, 64)                0         \n",
      "                                                                 \n",
      " dense_4 (Dense)             (None, 32)                2080      \n",
      "                                                                 \n",
      " dropout_4 (Dropout)         (None, 32)                0         \n",
      "                                                                 \n",
      " dense_5 (Dense)             (None, 8)                 264       \n",
      "                                                                 \n",
      "=================================================================\n",
      "Total params: 194280 (758.91 KB)\n",
      "Trainable params: 194280 (758.91 KB)\n",
      "Non-trainable params: 0 (0.00 Byte)\n",
      "_________________________________________________________________\n"
     ]
    }
   ],
   "source": [
    "# Resumen del modelo\n",
    "model.summary()"
   ]
  },
  {
   "cell_type": "code",
   "execution_count": 21,
   "id": "8ae37b56-58c4-44ff-92f3-47c5b19bbcbb",
   "metadata": {
    "scrolled": true
   },
   "outputs": [
    {
     "name": "stdout",
     "output_type": "stream",
     "text": [
      "Epoch 1/1000\n",
      "24/24 [==============================] - 4s 113ms/step - loss: 2.0730 - accuracy: 0.1588 - val_loss: 2.0524 - val_accuracy: 0.1857\n",
      "Epoch 2/1000\n",
      "24/24 [==============================] - 3s 97ms/step - loss: 2.0426 - accuracy: 0.1808 - val_loss: 1.9942 - val_accuracy: 0.2111\n",
      "Epoch 3/1000\n",
      "24/24 [==============================] - 3s 96ms/step - loss: 1.9785 - accuracy: 0.2169 - val_loss: 1.8472 - val_accuracy: 0.2992\n",
      "Epoch 4/1000\n",
      "24/24 [==============================] - 3s 96ms/step - loss: 1.8813 - accuracy: 0.2689 - val_loss: 1.7411 - val_accuracy: 0.3657\n",
      "Epoch 5/1000\n",
      "24/24 [==============================] - 3s 95ms/step - loss: 1.8088 - accuracy: 0.3039 - val_loss: 1.6640 - val_accuracy: 0.4070\n",
      "Epoch 6/1000\n",
      "24/24 [==============================] - 3s 101ms/step - loss: 1.7529 - accuracy: 0.3337 - val_loss: 1.6031 - val_accuracy: 0.4070\n",
      "Epoch 7/1000\n",
      "24/24 [==============================] - 3s 105ms/step - loss: 1.7092 - accuracy: 0.3548 - val_loss: 1.5703 - val_accuracy: 0.4436\n",
      "Epoch 8/1000\n",
      "24/24 [==============================] - 3s 96ms/step - loss: 1.6767 - accuracy: 0.3717 - val_loss: 1.5264 - val_accuracy: 0.4591\n",
      "Epoch 9/1000\n",
      "24/24 [==============================] - 3s 102ms/step - loss: 1.6522 - accuracy: 0.3849 - val_loss: 1.5016 - val_accuracy: 0.4781\n",
      "Epoch 10/1000\n",
      "24/24 [==============================] - 3s 95ms/step - loss: 1.6321 - accuracy: 0.3964 - val_loss: 1.4846 - val_accuracy: 0.4874\n",
      "Epoch 11/1000\n",
      "24/24 [==============================] - 3s 97ms/step - loss: 1.6170 - accuracy: 0.4069 - val_loss: 1.4782 - val_accuracy: 0.4954\n",
      "Epoch 12/1000\n",
      "24/24 [==============================] - 3s 97ms/step - loss: 1.6049 - accuracy: 0.4155 - val_loss: 1.4769 - val_accuracy: 0.4934\n",
      "Epoch 13/1000\n",
      "24/24 [==============================] - 3s 102ms/step - loss: 1.5950 - accuracy: 0.4207 - val_loss: 1.4597 - val_accuracy: 0.4944\n",
      "Epoch 14/1000\n",
      "24/24 [==============================] - 3s 93ms/step - loss: 1.5844 - accuracy: 0.4264 - val_loss: 1.4616 - val_accuracy: 0.4989\n",
      "Epoch 15/1000\n",
      "24/24 [==============================] - 2s 91ms/step - loss: 1.5796 - accuracy: 0.4298 - val_loss: 1.4636 - val_accuracy: 0.4922\n",
      "Epoch 16/1000\n",
      "24/24 [==============================] - 2s 93ms/step - loss: 1.5771 - accuracy: 0.4323 - val_loss: 1.4521 - val_accuracy: 0.4955\n",
      "Epoch 17/1000\n",
      "24/24 [==============================] - 2s 93ms/step - loss: 1.5682 - accuracy: 0.4379 - val_loss: 1.4395 - val_accuracy: 0.5051\n",
      "Epoch 18/1000\n",
      "24/24 [==============================] - 3s 96ms/step - loss: 1.5612 - accuracy: 0.4397 - val_loss: 1.4384 - val_accuracy: 0.5006\n",
      "Epoch 19/1000\n",
      "24/24 [==============================] - 2s 90ms/step - loss: 1.5596 - accuracy: 0.4410 - val_loss: 1.4331 - val_accuracy: 0.5022\n",
      "Epoch 20/1000\n",
      "24/24 [==============================] - 3s 96ms/step - loss: 1.5566 - accuracy: 0.4456 - val_loss: 1.4378 - val_accuracy: 0.5016\n",
      "Epoch 21/1000\n",
      "24/24 [==============================] - 2s 89ms/step - loss: 1.5529 - accuracy: 0.4472 - val_loss: 1.4287 - val_accuracy: 0.5025\n",
      "Epoch 22/1000\n",
      "24/24 [==============================] - 2s 89ms/step - loss: 1.5503 - accuracy: 0.4492 - val_loss: 1.4328 - val_accuracy: 0.5036\n",
      "Epoch 23/1000\n",
      "24/24 [==============================] - 2s 88ms/step - loss: 1.5461 - accuracy: 0.4520 - val_loss: 1.4224 - val_accuracy: 0.5094\n",
      "Epoch 24/1000\n",
      "24/24 [==============================] - 2s 89ms/step - loss: 1.5436 - accuracy: 0.4540 - val_loss: 1.4260 - val_accuracy: 0.5077\n",
      "Epoch 25/1000\n",
      "24/24 [==============================] - 2s 89ms/step - loss: 1.5393 - accuracy: 0.4551 - val_loss: 1.4304 - val_accuracy: 0.4982\n",
      "Epoch 26/1000\n",
      "24/24 [==============================] - 2s 91ms/step - loss: 1.5406 - accuracy: 0.4541 - val_loss: 1.4240 - val_accuracy: 0.5084\n",
      "Epoch 27/1000\n",
      "24/24 [==============================] - 2s 88ms/step - loss: 1.5336 - accuracy: 0.4580 - val_loss: 1.4157 - val_accuracy: 0.5102\n",
      "Epoch 28/1000\n",
      "24/24 [==============================] - 2s 86ms/step - loss: 1.5314 - accuracy: 0.4605 - val_loss: 1.4156 - val_accuracy: 0.5085\n",
      "Epoch 29/1000\n",
      "24/24 [==============================] - 2s 88ms/step - loss: 1.5310 - accuracy: 0.4598 - val_loss: 1.4179 - val_accuracy: 0.5057\n",
      "Epoch 30/1000\n",
      "24/24 [==============================] - 2s 86ms/step - loss: 1.5280 - accuracy: 0.4619 - val_loss: 1.4128 - val_accuracy: 0.5140\n",
      "Epoch 31/1000\n",
      "24/24 [==============================] - 2s 89ms/step - loss: 1.5268 - accuracy: 0.4616 - val_loss: 1.4105 - val_accuracy: 0.5121\n",
      "Epoch 32/1000\n",
      "24/24 [==============================] - 2s 87ms/step - loss: 1.5241 - accuracy: 0.4644 - val_loss: 1.4103 - val_accuracy: 0.5139\n",
      "Epoch 33/1000\n",
      "24/24 [==============================] - 2s 90ms/step - loss: 1.5226 - accuracy: 0.4653 - val_loss: 1.4077 - val_accuracy: 0.5164\n",
      "Epoch 34/1000\n",
      "24/24 [==============================] - 2s 90ms/step - loss: 1.5216 - accuracy: 0.4654 - val_loss: 1.4074 - val_accuracy: 0.5129\n",
      "Epoch 35/1000\n",
      "24/24 [==============================] - 2s 85ms/step - loss: 1.5218 - accuracy: 0.4664 - val_loss: 1.4090 - val_accuracy: 0.5129\n",
      "Epoch 36/1000\n",
      "24/24 [==============================] - 2s 85ms/step - loss: 1.5212 - accuracy: 0.4659 - val_loss: 1.4118 - val_accuracy: 0.5115\n",
      "Epoch 37/1000\n",
      "24/24 [==============================] - 2s 88ms/step - loss: 1.5182 - accuracy: 0.4676 - val_loss: 1.4046 - val_accuracy: 0.5134\n",
      "Epoch 38/1000\n",
      "24/24 [==============================] - 2s 87ms/step - loss: 1.5150 - accuracy: 0.4681 - val_loss: 1.4047 - val_accuracy: 0.5146\n",
      "Epoch 39/1000\n",
      "24/24 [==============================] - 2s 82ms/step - loss: 1.5135 - accuracy: 0.4693 - val_loss: 1.4022 - val_accuracy: 0.5189\n",
      "Epoch 40/1000\n",
      "24/24 [==============================] - 2s 86ms/step - loss: 1.5120 - accuracy: 0.4717 - val_loss: 1.4017 - val_accuracy: 0.5186\n",
      "Epoch 41/1000\n",
      "24/24 [==============================] - 2s 84ms/step - loss: 1.5111 - accuracy: 0.4710 - val_loss: 1.3974 - val_accuracy: 0.5197\n",
      "Epoch 42/1000\n",
      "24/24 [==============================] - 2s 83ms/step - loss: 1.5083 - accuracy: 0.4732 - val_loss: 1.4008 - val_accuracy: 0.5202\n",
      "Epoch 43/1000\n",
      "24/24 [==============================] - 2s 85ms/step - loss: 1.5086 - accuracy: 0.4735 - val_loss: 1.3996 - val_accuracy: 0.5178\n",
      "Epoch 44/1000\n",
      "24/24 [==============================] - 2s 81ms/step - loss: 1.5074 - accuracy: 0.4737 - val_loss: 1.3986 - val_accuracy: 0.5188\n",
      "Epoch 45/1000\n",
      "24/24 [==============================] - 2s 81ms/step - loss: 1.5067 - accuracy: 0.4744 - val_loss: 1.4015 - val_accuracy: 0.5154\n",
      "Epoch 46/1000\n",
      "24/24 [==============================] - 2s 81ms/step - loss: 1.5066 - accuracy: 0.4731 - val_loss: 1.3956 - val_accuracy: 0.5192\n",
      "Epoch 47/1000\n",
      "24/24 [==============================] - 2s 82ms/step - loss: 1.5048 - accuracy: 0.4742 - val_loss: 1.3992 - val_accuracy: 0.5145\n",
      "Epoch 48/1000\n",
      "24/24 [==============================] - 2s 85ms/step - loss: 1.5054 - accuracy: 0.4760 - val_loss: 1.3973 - val_accuracy: 0.5202\n",
      "Epoch 49/1000\n",
      "24/24 [==============================] - 2s 80ms/step - loss: 1.5040 - accuracy: 0.4754 - val_loss: 1.3952 - val_accuracy: 0.5191\n",
      "Epoch 50/1000\n",
      "24/24 [==============================] - 2s 81ms/step - loss: 1.4998 - accuracy: 0.4774 - val_loss: 1.3974 - val_accuracy: 0.5194\n",
      "Epoch 51/1000\n",
      "24/24 [==============================] - 2s 81ms/step - loss: 1.5006 - accuracy: 0.4772 - val_loss: 1.4001 - val_accuracy: 0.5168\n",
      "Epoch 52/1000\n",
      "24/24 [==============================] - 2s 79ms/step - loss: 1.5020 - accuracy: 0.4769 - val_loss: 1.3936 - val_accuracy: 0.5203\n",
      "Epoch 53/1000\n",
      "24/24 [==============================] - 2s 72ms/step - loss: 1.5001 - accuracy: 0.4776 - val_loss: 1.3917 - val_accuracy: 0.5200\n",
      "Epoch 54/1000\n",
      "24/24 [==============================] - 2s 75ms/step - loss: 1.4989 - accuracy: 0.4776 - val_loss: 1.3896 - val_accuracy: 0.5220\n",
      "Epoch 55/1000\n",
      "24/24 [==============================] - 2s 77ms/step - loss: 1.4983 - accuracy: 0.4785 - val_loss: 1.3939 - val_accuracy: 0.5166\n",
      "Epoch 56/1000\n",
      "24/24 [==============================] - 2s 73ms/step - loss: 1.4978 - accuracy: 0.4784 - val_loss: 1.3894 - val_accuracy: 0.5238\n",
      "Epoch 57/1000\n",
      "24/24 [==============================] - 2s 73ms/step - loss: 1.4969 - accuracy: 0.4804 - val_loss: 1.3916 - val_accuracy: 0.5220\n",
      "Epoch 58/1000\n",
      "24/24 [==============================] - 2s 71ms/step - loss: 1.4924 - accuracy: 0.4815 - val_loss: 1.3888 - val_accuracy: 0.5219\n",
      "Epoch 59/1000\n",
      "24/24 [==============================] - 2s 70ms/step - loss: 1.4938 - accuracy: 0.4796 - val_loss: 1.3924 - val_accuracy: 0.5198\n",
      "Epoch 60/1000\n",
      "24/24 [==============================] - 2s 69ms/step - loss: 1.4950 - accuracy: 0.4807 - val_loss: 1.3901 - val_accuracy: 0.5227\n",
      "Epoch 61/1000\n",
      "24/24 [==============================] - 2s 69ms/step - loss: 1.4935 - accuracy: 0.4790 - val_loss: 1.3837 - val_accuracy: 0.5239\n",
      "Epoch 62/1000\n",
      "24/24 [==============================] - 2s 69ms/step - loss: 1.4922 - accuracy: 0.4814 - val_loss: 1.3848 - val_accuracy: 0.5223\n",
      "Epoch 63/1000\n",
      "24/24 [==============================] - 2s 71ms/step - loss: 1.4919 - accuracy: 0.4823 - val_loss: 1.3904 - val_accuracy: 0.5205\n",
      "Epoch 64/1000\n",
      "24/24 [==============================] - 2s 73ms/step - loss: 1.4927 - accuracy: 0.4803 - val_loss: 1.3821 - val_accuracy: 0.5257\n",
      "Epoch 65/1000\n",
      "24/24 [==============================] - 2s 69ms/step - loss: 1.4920 - accuracy: 0.4814 - val_loss: 1.3850 - val_accuracy: 0.5258\n",
      "Epoch 66/1000\n",
      "24/24 [==============================] - 2s 69ms/step - loss: 1.4882 - accuracy: 0.4837 - val_loss: 1.3886 - val_accuracy: 0.5240\n",
      "Epoch 67/1000\n",
      "24/24 [==============================] - 2s 71ms/step - loss: 1.4897 - accuracy: 0.4816 - val_loss: 1.3837 - val_accuracy: 0.5236\n",
      "Epoch 68/1000\n",
      "24/24 [==============================] - 2s 70ms/step - loss: 1.4875 - accuracy: 0.4830 - val_loss: 1.3846 - val_accuracy: 0.5235\n",
      "Epoch 69/1000\n",
      "24/24 [==============================] - 2s 70ms/step - loss: 1.4880 - accuracy: 0.4822 - val_loss: 1.3856 - val_accuracy: 0.5241\n",
      "Epoch 70/1000\n",
      "24/24 [==============================] - 2s 70ms/step - loss: 1.4875 - accuracy: 0.4822 - val_loss: 1.3839 - val_accuracy: 0.5233\n",
      "Epoch 71/1000\n",
      "24/24 [==============================] - 2s 69ms/step - loss: 1.4868 - accuracy: 0.4824 - val_loss: 1.3946 - val_accuracy: 0.5118\n",
      "Epoch 72/1000\n",
      "24/24 [==============================] - 2s 74ms/step - loss: 1.4906 - accuracy: 0.4802 - val_loss: 1.3813 - val_accuracy: 0.5244\n",
      "Epoch 73/1000\n",
      "24/24 [==============================] - 2s 69ms/step - loss: 1.4876 - accuracy: 0.4837 - val_loss: 1.3853 - val_accuracy: 0.5233\n",
      "Epoch 74/1000\n",
      "24/24 [==============================] - 2s 70ms/step - loss: 1.4870 - accuracy: 0.4822 - val_loss: 1.3795 - val_accuracy: 0.5230\n",
      "Epoch 75/1000\n",
      "24/24 [==============================] - 2s 69ms/step - loss: 1.4841 - accuracy: 0.4845 - val_loss: 1.3849 - val_accuracy: 0.5226\n",
      "Epoch 76/1000\n",
      "24/24 [==============================] - 2s 71ms/step - loss: 1.4858 - accuracy: 0.4829 - val_loss: 1.3842 - val_accuracy: 0.5227\n",
      "Epoch 77/1000\n",
      "24/24 [==============================] - 2s 70ms/step - loss: 1.4870 - accuracy: 0.4824 - val_loss: 1.3823 - val_accuracy: 0.5243\n",
      "Epoch 78/1000\n",
      "24/24 [==============================] - 2s 69ms/step - loss: 1.4839 - accuracy: 0.4851 - val_loss: 1.3814 - val_accuracy: 0.5206\n",
      "Epoch 79/1000\n",
      "24/24 [==============================] - 2s 69ms/step - loss: 1.4833 - accuracy: 0.4850 - val_loss: 1.3781 - val_accuracy: 0.5253\n",
      "Epoch 80/1000\n",
      "24/24 [==============================] - 2s 71ms/step - loss: 1.4829 - accuracy: 0.4852 - val_loss: 1.3818 - val_accuracy: 0.5233\n",
      "Epoch 81/1000\n",
      "24/24 [==============================] - 2s 74ms/step - loss: 1.4836 - accuracy: 0.4840 - val_loss: 1.3808 - val_accuracy: 0.5214\n",
      "Epoch 82/1000\n",
      "24/24 [==============================] - 2s 69ms/step - loss: 1.4825 - accuracy: 0.4854 - val_loss: 1.3815 - val_accuracy: 0.5268\n",
      "Epoch 83/1000\n",
      "24/24 [==============================] - 2s 69ms/step - loss: 1.4842 - accuracy: 0.4843 - val_loss: 1.3822 - val_accuracy: 0.5242\n",
      "Epoch 84/1000\n",
      "24/24 [==============================] - 2s 71ms/step - loss: 1.4827 - accuracy: 0.4844 - val_loss: 1.3793 - val_accuracy: 0.5258\n",
      "Epoch 85/1000\n",
      "24/24 [==============================] - 2s 69ms/step - loss: 1.4818 - accuracy: 0.4847 - val_loss: 1.3809 - val_accuracy: 0.5234\n",
      "Epoch 86/1000\n",
      "24/24 [==============================] - 2s 70ms/step - loss: 1.4821 - accuracy: 0.4857 - val_loss: 1.3805 - val_accuracy: 0.5241\n",
      "Epoch 87/1000\n",
      "24/24 [==============================] - 2s 69ms/step - loss: 1.4809 - accuracy: 0.4861 - val_loss: 1.3772 - val_accuracy: 0.5249\n",
      "Epoch 88/1000\n",
      "24/24 [==============================] - 2s 71ms/step - loss: 1.4815 - accuracy: 0.4844 - val_loss: 1.3792 - val_accuracy: 0.5249\n",
      "Epoch 89/1000\n",
      "24/24 [==============================] - 2s 71ms/step - loss: 1.4819 - accuracy: 0.4857 - val_loss: 1.3804 - val_accuracy: 0.5229\n",
      "Epoch 90/1000\n",
      "24/24 [==============================] - 2s 71ms/step - loss: 1.4821 - accuracy: 0.4846 - val_loss: 1.3779 - val_accuracy: 0.5215\n",
      "Epoch 91/1000\n",
      "24/24 [==============================] - 2s 70ms/step - loss: 1.4815 - accuracy: 0.4862 - val_loss: 1.3786 - val_accuracy: 0.5225\n",
      "Epoch 92/1000\n",
      "24/24 [==============================] - 2s 71ms/step - loss: 1.4798 - accuracy: 0.4867 - val_loss: 1.3766 - val_accuracy: 0.5238\n",
      "Epoch 93/1000\n",
      "24/24 [==============================] - 2s 70ms/step - loss: 1.4789 - accuracy: 0.4850 - val_loss: 1.3749 - val_accuracy: 0.5233\n",
      "Epoch 94/1000\n",
      "24/24 [==============================] - 2s 70ms/step - loss: 1.4778 - accuracy: 0.4855 - val_loss: 1.3771 - val_accuracy: 0.5228\n",
      "Epoch 95/1000\n",
      "24/24 [==============================] - 2s 70ms/step - loss: 1.4802 - accuracy: 0.4837 - val_loss: 1.3786 - val_accuracy: 0.5237\n",
      "Epoch 96/1000\n",
      "24/24 [==============================] - 2s 70ms/step - loss: 1.4794 - accuracy: 0.4861 - val_loss: 1.3761 - val_accuracy: 0.5244\n",
      "Epoch 97/1000\n",
      "24/24 [==============================] - 2s 70ms/step - loss: 1.4783 - accuracy: 0.4852 - val_loss: 1.3783 - val_accuracy: 0.5213\n",
      "Epoch 98/1000\n",
      "24/24 [==============================] - 2s 74ms/step - loss: 1.4788 - accuracy: 0.4846 - val_loss: 1.3786 - val_accuracy: 0.5206\n",
      "Epoch 99/1000\n",
      "24/24 [==============================] - 2s 71ms/step - loss: 1.4796 - accuracy: 0.4861 - val_loss: 1.3755 - val_accuracy: 0.5256\n",
      "Epoch 100/1000\n",
      "24/24 [==============================] - 2s 69ms/step - loss: 1.4782 - accuracy: 0.4861 - val_loss: 1.3770 - val_accuracy: 0.5216\n",
      "Epoch 101/1000\n",
      "24/24 [==============================] - 2s 69ms/step - loss: 1.4780 - accuracy: 0.4872 - val_loss: 1.3805 - val_accuracy: 0.5183\n",
      "Epoch 102/1000\n",
      "24/24 [==============================] - 2s 70ms/step - loss: 1.4790 - accuracy: 0.4872 - val_loss: 1.3746 - val_accuracy: 0.5241\n",
      "Epoch 103/1000\n",
      "24/24 [==============================] - 2s 71ms/step - loss: 1.4771 - accuracy: 0.4866 - val_loss: 1.3791 - val_accuracy: 0.5214\n",
      "Epoch 104/1000\n",
      "24/24 [==============================] - 2s 69ms/step - loss: 1.4767 - accuracy: 0.4866 - val_loss: 1.3784 - val_accuracy: 0.5229\n",
      "Epoch 105/1000\n",
      "24/24 [==============================] - 2s 70ms/step - loss: 1.4758 - accuracy: 0.4874 - val_loss: 1.3743 - val_accuracy: 0.5230\n",
      "Epoch 106/1000\n",
      "24/24 [==============================] - 2s 70ms/step - loss: 1.4763 - accuracy: 0.4867 - val_loss: 1.3759 - val_accuracy: 0.5231\n",
      "Epoch 107/1000\n",
      "24/24 [==============================] - 2s 73ms/step - loss: 1.4768 - accuracy: 0.4876 - val_loss: 1.3766 - val_accuracy: 0.5240\n",
      "Epoch 108/1000\n",
      "24/24 [==============================] - 2s 69ms/step - loss: 1.4772 - accuracy: 0.4878 - val_loss: 1.3825 - val_accuracy: 0.5194\n",
      "Epoch 109/1000\n",
      "24/24 [==============================] - 2s 70ms/step - loss: 1.4745 - accuracy: 0.4877 - val_loss: 1.3727 - val_accuracy: 0.5223\n",
      "Epoch 110/1000\n",
      "24/24 [==============================] - 2s 70ms/step - loss: 1.4773 - accuracy: 0.4873 - val_loss: 1.3741 - val_accuracy: 0.5223\n",
      "Epoch 111/1000\n",
      "24/24 [==============================] - 2s 74ms/step - loss: 1.4742 - accuracy: 0.4887 - val_loss: 1.3766 - val_accuracy: 0.5206\n",
      "Epoch 112/1000\n",
      "24/24 [==============================] - 2s 69ms/step - loss: 1.4755 - accuracy: 0.4867 - val_loss: 1.3724 - val_accuracy: 0.5251\n",
      "Epoch 113/1000\n",
      "24/24 [==============================] - 2s 74ms/step - loss: 1.4760 - accuracy: 0.4883 - val_loss: 1.3781 - val_accuracy: 0.5220\n",
      "Epoch 114/1000\n",
      "24/24 [==============================] - 2s 70ms/step - loss: 1.4761 - accuracy: 0.4850 - val_loss: 1.3739 - val_accuracy: 0.5240\n",
      "Epoch 115/1000\n",
      "24/24 [==============================] - 2s 76ms/step - loss: 1.4756 - accuracy: 0.4870 - val_loss: 1.3727 - val_accuracy: 0.5242\n",
      "Epoch 116/1000\n",
      "24/24 [==============================] - 2s 70ms/step - loss: 1.4747 - accuracy: 0.4882 - val_loss: 1.3724 - val_accuracy: 0.5248\n",
      "Epoch 117/1000\n",
      "24/24 [==============================] - 2s 70ms/step - loss: 1.4745 - accuracy: 0.4874 - val_loss: 1.3746 - val_accuracy: 0.5237\n",
      "Epoch 118/1000\n",
      "24/24 [==============================] - 2s 71ms/step - loss: 1.4755 - accuracy: 0.4881 - val_loss: 1.3734 - val_accuracy: 0.5238\n",
      "Epoch 119/1000\n",
      "24/24 [==============================] - 2s 71ms/step - loss: 1.4750 - accuracy: 0.4852 - val_loss: 1.3782 - val_accuracy: 0.5194\n",
      "Epoch 120/1000\n",
      "24/24 [==============================] - 2s 75ms/step - loss: 1.4770 - accuracy: 0.4861 - val_loss: 1.3906 - val_accuracy: 0.5135\n",
      "Epoch 121/1000\n",
      "24/24 [==============================] - 2s 72ms/step - loss: 1.4794 - accuracy: 0.4833 - val_loss: 1.3776 - val_accuracy: 0.5206\n",
      "Epoch 122/1000\n",
      "24/24 [==============================] - 2s 74ms/step - loss: 1.4751 - accuracy: 0.4874 - val_loss: 1.3797 - val_accuracy: 0.5225\n",
      "Epoch 123/1000\n",
      "24/24 [==============================] - 2s 76ms/step - loss: 1.4760 - accuracy: 0.4847 - val_loss: 1.3729 - val_accuracy: 0.5216\n",
      "Epoch 124/1000\n",
      "24/24 [==============================] - 2s 74ms/step - loss: 1.4732 - accuracy: 0.4881 - val_loss: 1.3723 - val_accuracy: 0.5216\n",
      "Epoch 125/1000\n",
      "24/24 [==============================] - 2s 71ms/step - loss: 1.4737 - accuracy: 0.4874 - val_loss: 1.3737 - val_accuracy: 0.5223\n",
      "Epoch 126/1000\n",
      "24/24 [==============================] - 2s 72ms/step - loss: 1.4741 - accuracy: 0.4863 - val_loss: 1.3718 - val_accuracy: 0.5215\n",
      "Epoch 127/1000\n",
      "24/24 [==============================] - 2s 70ms/step - loss: 1.4727 - accuracy: 0.4869 - val_loss: 1.3726 - val_accuracy: 0.5252\n",
      "Epoch 128/1000\n",
      "24/24 [==============================] - 2s 70ms/step - loss: 1.4740 - accuracy: 0.4870 - val_loss: 1.3758 - val_accuracy: 0.5222\n",
      "Epoch 129/1000\n",
      "24/24 [==============================] - 2s 70ms/step - loss: 1.4745 - accuracy: 0.4862 - val_loss: 1.3758 - val_accuracy: 0.5211\n",
      "Epoch 130/1000\n",
      "24/24 [==============================] - 2s 71ms/step - loss: 1.4724 - accuracy: 0.4879 - val_loss: 1.3743 - val_accuracy: 0.5219\n",
      "Epoch 131/1000\n",
      "24/24 [==============================] - 2s 71ms/step - loss: 1.4748 - accuracy: 0.4866 - val_loss: 1.3765 - val_accuracy: 0.5193\n",
      "Epoch 132/1000\n",
      "24/24 [==============================] - 2s 76ms/step - loss: 1.4702 - accuracy: 0.4893 - val_loss: 1.3694 - val_accuracy: 0.5252\n",
      "Epoch 133/1000\n",
      "24/24 [==============================] - 2s 72ms/step - loss: 1.4730 - accuracy: 0.4877 - val_loss: 1.3725 - val_accuracy: 0.5242\n",
      "Epoch 134/1000\n",
      "24/24 [==============================] - 2s 70ms/step - loss: 1.4730 - accuracy: 0.4890 - val_loss: 1.3711 - val_accuracy: 0.5241\n",
      "Epoch 135/1000\n",
      "24/24 [==============================] - 2s 69ms/step - loss: 1.4738 - accuracy: 0.4878 - val_loss: 1.3699 - val_accuracy: 0.5248\n",
      "Epoch 136/1000\n",
      "24/24 [==============================] - 2s 70ms/step - loss: 1.4722 - accuracy: 0.4903 - val_loss: 1.3767 - val_accuracy: 0.5200\n",
      "Epoch 137/1000\n",
      "24/24 [==============================] - 2s 72ms/step - loss: 1.4719 - accuracy: 0.4881 - val_loss: 1.3712 - val_accuracy: 0.5219\n",
      "Epoch 138/1000\n",
      "24/24 [==============================] - 2s 71ms/step - loss: 1.4727 - accuracy: 0.4893 - val_loss: 1.3718 - val_accuracy: 0.5243\n",
      "Epoch 139/1000\n",
      "24/24 [==============================] - 2s 70ms/step - loss: 1.4742 - accuracy: 0.4866 - val_loss: 1.3746 - val_accuracy: 0.5225\n",
      "Epoch 140/1000\n",
      "24/24 [==============================] - 2s 75ms/step - loss: 1.4712 - accuracy: 0.4886 - val_loss: 1.3708 - val_accuracy: 0.5234\n",
      "Epoch 141/1000\n",
      "24/24 [==============================] - 2s 70ms/step - loss: 1.4710 - accuracy: 0.4895 - val_loss: 1.3715 - val_accuracy: 0.5236\n",
      "Epoch 142/1000\n",
      "24/24 [==============================] - 2s 71ms/step - loss: 1.4713 - accuracy: 0.4891 - val_loss: 1.3748 - val_accuracy: 0.5226\n",
      "Epoch 143/1000\n",
      "24/24 [==============================] - 2s 69ms/step - loss: 1.4717 - accuracy: 0.4877 - val_loss: 1.3718 - val_accuracy: 0.5247\n",
      "Epoch 144/1000\n",
      "24/24 [==============================] - 2s 71ms/step - loss: 1.4702 - accuracy: 0.4880 - val_loss: 1.3724 - val_accuracy: 0.5235\n",
      "Epoch 145/1000\n",
      "24/24 [==============================] - 2s 70ms/step - loss: 1.4704 - accuracy: 0.4877 - val_loss: 1.3707 - val_accuracy: 0.5227\n",
      "Epoch 146/1000\n",
      "24/24 [==============================] - 2s 69ms/step - loss: 1.4714 - accuracy: 0.4889 - val_loss: 1.3760 - val_accuracy: 0.5174\n",
      "Epoch 147/1000\n",
      "24/24 [==============================] - 2s 70ms/step - loss: 1.4708 - accuracy: 0.4889 - val_loss: 1.3698 - val_accuracy: 0.5246\n",
      "Epoch 148/1000\n",
      "24/24 [==============================] - 2s 71ms/step - loss: 1.4700 - accuracy: 0.4889 - val_loss: 1.3746 - val_accuracy: 0.5216\n",
      "Epoch 149/1000\n",
      "24/24 [==============================] - 2s 75ms/step - loss: 1.4704 - accuracy: 0.4893 - val_loss: 1.3720 - val_accuracy: 0.5234\n",
      "Epoch 150/1000\n",
      "24/24 [==============================] - 2s 70ms/step - loss: 1.4691 - accuracy: 0.4896 - val_loss: 1.3701 - val_accuracy: 0.5243\n",
      "Epoch 151/1000\n",
      "24/24 [==============================] - 2s 71ms/step - loss: 1.4715 - accuracy: 0.4880 - val_loss: 1.3716 - val_accuracy: 0.5216\n",
      "Epoch 152/1000\n",
      "24/24 [==============================] - 2s 70ms/step - loss: 1.4699 - accuracy: 0.4884 - val_loss: 1.3707 - val_accuracy: 0.5240\n",
      "Epoch 153/1000\n",
      "24/24 [==============================] - 2s 70ms/step - loss: 1.4700 - accuracy: 0.4902 - val_loss: 1.3701 - val_accuracy: 0.5253\n",
      "Epoch 154/1000\n",
      "24/24 [==============================] - 2s 70ms/step - loss: 1.4680 - accuracy: 0.4902 - val_loss: 1.3739 - val_accuracy: 0.5208\n",
      "Epoch 155/1000\n",
      "24/24 [==============================] - 2s 73ms/step - loss: 1.4705 - accuracy: 0.4887 - val_loss: 1.3709 - val_accuracy: 0.5234\n",
      "Epoch 156/1000\n",
      "24/24 [==============================] - 2s 70ms/step - loss: 1.4718 - accuracy: 0.4882 - val_loss: 1.3718 - val_accuracy: 0.5211\n",
      "Epoch 157/1000\n",
      "24/24 [==============================] - 2s 72ms/step - loss: 1.4697 - accuracy: 0.4877 - val_loss: 1.3730 - val_accuracy: 0.5236\n",
      "Epoch 158/1000\n",
      "24/24 [==============================] - 2s 72ms/step - loss: 1.4698 - accuracy: 0.4906 - val_loss: 1.3724 - val_accuracy: 0.5233\n",
      "Epoch 159/1000\n",
      "24/24 [==============================] - 2s 71ms/step - loss: 1.4688 - accuracy: 0.4903 - val_loss: 1.3694 - val_accuracy: 0.5225\n",
      "Epoch 160/1000\n",
      "24/24 [==============================] - 2s 70ms/step - loss: 1.4672 - accuracy: 0.4897 - val_loss: 1.3702 - val_accuracy: 0.5231\n",
      "Epoch 161/1000\n",
      "24/24 [==============================] - 2s 71ms/step - loss: 1.4694 - accuracy: 0.4882 - val_loss: 1.3698 - val_accuracy: 0.5231\n",
      "Epoch 162/1000\n",
      "24/24 [==============================] - 2s 71ms/step - loss: 1.4678 - accuracy: 0.4893 - val_loss: 1.3698 - val_accuracy: 0.5232\n",
      "Epoch 163/1000\n",
      "24/24 [==============================] - 2s 70ms/step - loss: 1.4688 - accuracy: 0.4909 - val_loss: 1.3714 - val_accuracy: 0.5252\n",
      "Epoch 164/1000\n",
      "24/24 [==============================] - 2s 70ms/step - loss: 1.4692 - accuracy: 0.4899 - val_loss: 1.3701 - val_accuracy: 0.5240\n",
      "Epoch 165/1000\n",
      "24/24 [==============================] - 2s 71ms/step - loss: 1.4710 - accuracy: 0.4876 - val_loss: 1.3696 - val_accuracy: 0.5246\n",
      "Epoch 166/1000\n",
      "24/24 [==============================] - 2s 75ms/step - loss: 1.4692 - accuracy: 0.4889 - val_loss: 1.3753 - val_accuracy: 0.5190\n",
      "Epoch 167/1000\n",
      "24/24 [==============================] - 2s 70ms/step - loss: 1.4704 - accuracy: 0.4891 - val_loss: 1.3685 - val_accuracy: 0.5251\n",
      "Epoch 168/1000\n",
      "24/24 [==============================] - 2s 70ms/step - loss: 1.4698 - accuracy: 0.4879 - val_loss: 1.3704 - val_accuracy: 0.5241\n",
      "Epoch 169/1000\n",
      "24/24 [==============================] - 2s 71ms/step - loss: 1.4681 - accuracy: 0.4898 - val_loss: 1.3722 - val_accuracy: 0.5198\n",
      "Epoch 170/1000\n",
      "24/24 [==============================] - 2s 70ms/step - loss: 1.4700 - accuracy: 0.4880 - val_loss: 1.3705 - val_accuracy: 0.5250\n",
      "Epoch 171/1000\n",
      "24/24 [==============================] - 2s 70ms/step - loss: 1.4673 - accuracy: 0.4906 - val_loss: 1.3692 - val_accuracy: 0.5229\n",
      "Epoch 172/1000\n",
      "24/24 [==============================] - 2s 71ms/step - loss: 1.4692 - accuracy: 0.4869 - val_loss: 1.3681 - val_accuracy: 0.5235\n",
      "Epoch 173/1000\n",
      "24/24 [==============================] - 2s 70ms/step - loss: 1.4676 - accuracy: 0.4895 - val_loss: 1.3692 - val_accuracy: 0.5243\n",
      "Epoch 174/1000\n",
      "24/24 [==============================] - 2s 71ms/step - loss: 1.4682 - accuracy: 0.4892 - val_loss: 1.3684 - val_accuracy: 0.5252\n",
      "Epoch 175/1000\n",
      "24/24 [==============================] - 2s 71ms/step - loss: 1.4667 - accuracy: 0.4889 - val_loss: 1.3680 - val_accuracy: 0.5230\n",
      "Epoch 176/1000\n",
      "24/24 [==============================] - 2s 72ms/step - loss: 1.4658 - accuracy: 0.4903 - val_loss: 1.3693 - val_accuracy: 0.5210\n",
      "Epoch 177/1000\n",
      "24/24 [==============================] - 2s 70ms/step - loss: 1.4689 - accuracy: 0.4892 - val_loss: 1.3706 - val_accuracy: 0.5211\n",
      "Epoch 178/1000\n",
      "24/24 [==============================] - 2s 70ms/step - loss: 1.4687 - accuracy: 0.4890 - val_loss: 1.3696 - val_accuracy: 0.5250\n",
      "Epoch 179/1000\n",
      "24/24 [==============================] - 2s 72ms/step - loss: 1.4680 - accuracy: 0.4892 - val_loss: 1.3721 - val_accuracy: 0.5228\n",
      "Epoch 180/1000\n",
      "24/24 [==============================] - 2s 71ms/step - loss: 1.4676 - accuracy: 0.4890 - val_loss: 1.3728 - val_accuracy: 0.5216\n",
      "Epoch 181/1000\n",
      "24/24 [==============================] - 2s 70ms/step - loss: 1.4677 - accuracy: 0.4896 - val_loss: 1.3687 - val_accuracy: 0.5239\n",
      "Epoch 182/1000\n",
      "24/24 [==============================] - 2s 72ms/step - loss: 1.4681 - accuracy: 0.4884 - val_loss: 1.3660 - val_accuracy: 0.5240\n",
      "Epoch 183/1000\n",
      "24/24 [==============================] - 2s 74ms/step - loss: 1.4661 - accuracy: 0.4903 - val_loss: 1.3699 - val_accuracy: 0.5239\n",
      "Epoch 184/1000\n",
      "24/24 [==============================] - 2s 70ms/step - loss: 1.4681 - accuracy: 0.4885 - val_loss: 1.3696 - val_accuracy: 0.5225\n",
      "Epoch 185/1000\n",
      "24/24 [==============================] - 2s 70ms/step - loss: 1.4667 - accuracy: 0.4917 - val_loss: 1.3712 - val_accuracy: 0.5214\n",
      "Epoch 186/1000\n",
      "24/24 [==============================] - 2s 72ms/step - loss: 1.4663 - accuracy: 0.4903 - val_loss: 1.3679 - val_accuracy: 0.5235\n",
      "Epoch 187/1000\n",
      "24/24 [==============================] - 2s 71ms/step - loss: 1.4672 - accuracy: 0.4905 - val_loss: 1.3696 - val_accuracy: 0.5245\n",
      "Epoch 188/1000\n",
      "24/24 [==============================] - 2s 70ms/step - loss: 1.4676 - accuracy: 0.4900 - val_loss: 1.3711 - val_accuracy: 0.5240\n",
      "Epoch 189/1000\n",
      "24/24 [==============================] - 2s 72ms/step - loss: 1.4672 - accuracy: 0.4913 - val_loss: 1.3692 - val_accuracy: 0.5228\n",
      "Epoch 190/1000\n",
      "24/24 [==============================] - 2s 70ms/step - loss: 1.4684 - accuracy: 0.4899 - val_loss: 1.3700 - val_accuracy: 0.5249\n",
      "Epoch 191/1000\n",
      "24/24 [==============================] - 2s 72ms/step - loss: 1.4674 - accuracy: 0.4904 - val_loss: 1.3717 - val_accuracy: 0.5226\n",
      "Epoch 192/1000\n",
      "24/24 [==============================] - 2s 72ms/step - loss: 1.4669 - accuracy: 0.4897 - val_loss: 1.3719 - val_accuracy: 0.5227\n",
      "Epoch 193/1000\n",
      "24/24 [==============================] - 2s 70ms/step - loss: 1.4652 - accuracy: 0.4916 - val_loss: 1.3710 - val_accuracy: 0.5220\n",
      "Epoch 194/1000\n",
      "24/24 [==============================] - 2s 70ms/step - loss: 1.4689 - accuracy: 0.4894 - val_loss: 1.3704 - val_accuracy: 0.5235\n",
      "Epoch 195/1000\n",
      "24/24 [==============================] - 2s 71ms/step - loss: 1.4660 - accuracy: 0.4879 - val_loss: 1.3696 - val_accuracy: 0.5210\n",
      "Epoch 196/1000\n",
      "24/24 [==============================] - 2s 73ms/step - loss: 1.4662 - accuracy: 0.4896 - val_loss: 1.3692 - val_accuracy: 0.5242\n",
      "Epoch 197/1000\n",
      "24/24 [==============================] - 2s 70ms/step - loss: 1.4660 - accuracy: 0.4880 - val_loss: 1.3659 - val_accuracy: 0.5235\n",
      "Epoch 198/1000\n",
      "24/24 [==============================] - 2s 70ms/step - loss: 1.4676 - accuracy: 0.4880 - val_loss: 1.3672 - val_accuracy: 0.5265\n",
      "Epoch 199/1000\n",
      "24/24 [==============================] - 2s 72ms/step - loss: 1.4668 - accuracy: 0.4883 - val_loss: 1.3683 - val_accuracy: 0.5223\n",
      "Epoch 200/1000\n",
      "24/24 [==============================] - 2s 75ms/step - loss: 1.4660 - accuracy: 0.4902 - val_loss: 1.3691 - val_accuracy: 0.5254\n",
      "Epoch 201/1000\n",
      "24/24 [==============================] - 2s 70ms/step - loss: 1.4653 - accuracy: 0.4914 - val_loss: 1.3702 - val_accuracy: 0.5249\n",
      "Epoch 202/1000\n",
      "24/24 [==============================] - 2s 71ms/step - loss: 1.4665 - accuracy: 0.4893 - val_loss: 1.3679 - val_accuracy: 0.5253\n",
      "Epoch 203/1000\n",
      "24/24 [==============================] - 2s 70ms/step - loss: 1.4661 - accuracy: 0.4896 - val_loss: 1.3700 - val_accuracy: 0.5255\n",
      "Epoch 204/1000\n",
      "24/24 [==============================] - 2s 70ms/step - loss: 1.4650 - accuracy: 0.4906 - val_loss: 1.3687 - val_accuracy: 0.5249\n",
      "Epoch 205/1000\n",
      "24/24 [==============================] - 2s 70ms/step - loss: 1.4653 - accuracy: 0.4904 - val_loss: 1.3686 - val_accuracy: 0.5249\n",
      "Epoch 206/1000\n",
      "24/24 [==============================] - 2s 71ms/step - loss: 1.4655 - accuracy: 0.4914 - val_loss: 1.3670 - val_accuracy: 0.5247\n",
      "Epoch 207/1000\n",
      "24/24 [==============================] - 2s 70ms/step - loss: 1.4652 - accuracy: 0.4905 - val_loss: 1.3739 - val_accuracy: 0.5178\n",
      "Epoch 208/1000\n",
      "24/24 [==============================] - 2s 72ms/step - loss: 1.4695 - accuracy: 0.4885 - val_loss: 1.3704 - val_accuracy: 0.5250\n",
      "Epoch 209/1000\n",
      "24/24 [==============================] - 2s 73ms/step - loss: 1.4652 - accuracy: 0.4909 - val_loss: 1.3677 - val_accuracy: 0.5243\n",
      "Epoch 210/1000\n",
      "24/24 [==============================] - 2s 70ms/step - loss: 1.4634 - accuracy: 0.4928 - val_loss: 1.3680 - val_accuracy: 0.5251\n",
      "Epoch 211/1000\n",
      "24/24 [==============================] - 2s 71ms/step - loss: 1.4641 - accuracy: 0.4904 - val_loss: 1.3707 - val_accuracy: 0.5244\n",
      "Epoch 212/1000\n",
      "24/24 [==============================] - 2s 72ms/step - loss: 1.4648 - accuracy: 0.4911 - val_loss: 1.3669 - val_accuracy: 0.5248\n",
      "Epoch 213/1000\n",
      "24/24 [==============================] - 2s 70ms/step - loss: 1.4656 - accuracy: 0.4902 - val_loss: 1.3696 - val_accuracy: 0.5220\n",
      "Epoch 214/1000\n",
      "24/24 [==============================] - 2s 70ms/step - loss: 1.4626 - accuracy: 0.4911 - val_loss: 1.3683 - val_accuracy: 0.5225\n",
      "Epoch 215/1000\n",
      "24/24 [==============================] - 2s 71ms/step - loss: 1.4661 - accuracy: 0.4901 - val_loss: 1.3752 - val_accuracy: 0.5195\n",
      "Epoch 216/1000\n",
      "24/24 [==============================] - 2s 70ms/step - loss: 1.4684 - accuracy: 0.4885 - val_loss: 1.3672 - val_accuracy: 0.5249\n",
      "Epoch 217/1000\n",
      "24/24 [==============================] - 2s 75ms/step - loss: 1.4645 - accuracy: 0.4902 - val_loss: 1.3672 - val_accuracy: 0.5237\n",
      "Epoch 218/1000\n",
      "24/24 [==============================] - 2s 70ms/step - loss: 1.4665 - accuracy: 0.4885 - val_loss: 1.3666 - val_accuracy: 0.5224\n",
      "Epoch 219/1000\n",
      "24/24 [==============================] - 2s 71ms/step - loss: 1.4660 - accuracy: 0.4891 - val_loss: 1.3688 - val_accuracy: 0.5244\n",
      "Epoch 220/1000\n",
      "24/24 [==============================] - 2s 70ms/step - loss: 1.4675 - accuracy: 0.4880 - val_loss: 1.3684 - val_accuracy: 0.5249\n",
      "Epoch 221/1000\n",
      "24/24 [==============================] - 2s 70ms/step - loss: 1.4636 - accuracy: 0.4908 - val_loss: 1.3662 - val_accuracy: 0.5258\n",
      "Epoch 222/1000\n",
      "24/24 [==============================] - 2s 72ms/step - loss: 1.4637 - accuracy: 0.4911 - val_loss: 1.3724 - val_accuracy: 0.5187\n",
      "Epoch 223/1000\n",
      "24/24 [==============================] - 2s 70ms/step - loss: 1.4657 - accuracy: 0.4890 - val_loss: 1.3699 - val_accuracy: 0.5206\n",
      "Epoch 224/1000\n",
      "24/24 [==============================] - 2s 70ms/step - loss: 1.4654 - accuracy: 0.4906 - val_loss: 1.3688 - val_accuracy: 0.5211\n",
      "Epoch 225/1000\n",
      "24/24 [==============================] - 2s 75ms/step - loss: 1.4656 - accuracy: 0.4891 - val_loss: 1.3667 - val_accuracy: 0.5237\n",
      "Epoch 226/1000\n",
      "24/24 [==============================] - 2s 71ms/step - loss: 1.4648 - accuracy: 0.4898 - val_loss: 1.3650 - val_accuracy: 0.5241\n",
      "Epoch 227/1000\n",
      "24/24 [==============================] - 2s 70ms/step - loss: 1.4663 - accuracy: 0.4889 - val_loss: 1.3647 - val_accuracy: 0.5252\n",
      "Epoch 228/1000\n",
      "24/24 [==============================] - 2s 72ms/step - loss: 1.4646 - accuracy: 0.4902 - val_loss: 1.3670 - val_accuracy: 0.5237\n",
      "Epoch 229/1000\n",
      "24/24 [==============================] - 2s 71ms/step - loss: 1.4650 - accuracy: 0.4899 - val_loss: 1.3676 - val_accuracy: 0.5261\n",
      "Epoch 230/1000\n",
      "24/24 [==============================] - 2s 70ms/step - loss: 1.4655 - accuracy: 0.4910 - val_loss: 1.3683 - val_accuracy: 0.5241\n",
      "Epoch 231/1000\n",
      "24/24 [==============================] - 2s 70ms/step - loss: 1.4652 - accuracy: 0.4913 - val_loss: 1.3659 - val_accuracy: 0.5246\n",
      "Epoch 232/1000\n",
      "24/24 [==============================] - 2s 70ms/step - loss: 1.4652 - accuracy: 0.4918 - val_loss: 1.3694 - val_accuracy: 0.5217\n",
      "Epoch 233/1000\n",
      "24/24 [==============================] - 2s 70ms/step - loss: 1.4648 - accuracy: 0.4913 - val_loss: 1.3689 - val_accuracy: 0.5240\n",
      "Epoch 234/1000\n",
      "24/24 [==============================] - 2s 75ms/step - loss: 1.4627 - accuracy: 0.4919 - val_loss: 1.3664 - val_accuracy: 0.5245\n"
     ]
    }
   ],
   "source": [
    "# Entrenamiento del modelo\n",
    "callback = EarlyStopping(monitor='loss', patience=20)\n",
    "history = model.fit(dataset_train, validation_data = dataset_test, epochs=1000, callbacks=[callback])"
   ]
  },
  {
   "cell_type": "code",
   "execution_count": 33,
   "id": "c06d428d-d0bf-49d2-906b-c85f776852d3",
   "metadata": {},
   "outputs": [
    {
     "name": "stdout",
     "output_type": "stream",
     "text": [
      "6/6 [==============================] - 0s 15ms/step - loss: 1.3664 - accuracy: 0.5245\n",
      "[1.3663960695266724, 0.5245376825332642]\n"
     ]
    }
   ],
   "source": [
    "# Evaluación del modelo\n",
    "score = model.evaluate(dataset_test)\n",
    "print(score)\n",
    "#print(f\"Loss: {score[0]}, Accuracy: {score[1]}\")"
   ]
  },
  {
   "cell_type": "code",
   "execution_count": 34,
   "id": "85199b9c-c341-435c-bbd0-b290b6667cb4",
   "metadata": {},
   "outputs": [
    {
     "data": {
      "image/png": "[encoded data removed]",
      "text/plain": [
       "<Figure size 640x480 with 1 Axes>"
      ]
     },
     "metadata": {},
     "output_type": "display_data"
    },
    {
     "data": {
      "image/png": "[encoded data removed]",
      "text/plain": [
       "<Figure size 640x480 with 1 Axes>"
      ]
     },
     "metadata": {},
     "output_type": "display_data"
    }
   ],
   "source": [
    "# loss\n",
    "import matplotlib.pyplot as plt\n",
    "plt.plot(history.history[\"loss\"], label = \"loss\")\n",
    "plt.plot(history.history[\"val_loss\"], label = \"val_loss\")\n",
    "\n",
    "plt.legend()\n",
    "plt.show()\n",
    "\n",
    "plt.plot(history.history[\"accuracy\"], label = \"loss\")\n",
    "plt.plot(history.history[\"val_accuracy\"], label = \"val_accuracy\")\n",
    "\n",
    "plt.legend()\n",
    "plt.show()"
   ]
  },
  {
   "cell_type": "code",
   "execution_count": 24,
   "id": "9d75cf40-cba7-43ca-a873-43b964c3d105",
   "metadata": {},
   "outputs": [
    {
     "name": "stdout",
     "output_type": "stream",
     "text": [
      "True\n"
     ]
    }
   ],
   "source": [
    "import pickle\n",
    "import os  # Asegúrate de importar os\n",
    "\n",
    "# Guarda el modelo\n",
    "with open('modelo_log_clf.pkl', 'wb') as file:\n",
    "    pickle.dump(model, file)\n",
    "\n",
    "# Verifica que el archivo se guardó correctamente\n",
    "print(os.path.isfile('modelo_log.pkl'))"
   ]
  },
  {
   "cell_type": "code",
   "execution_count": 35,
   "id": "ec19f954-6844-4981-9f16-6d200d68d8b1",
   "metadata": {},
   "outputs": [
    {
     "name": "stdout",
     "output_type": "stream",
     "text": [
      "6/6 [==============================] - 0s 15ms/step\n"
     ]
    },
    {
     "data": {
      "text/plain": [
       "array([[6.2734098e-03, 3.1912196e-02, 4.6472631e-02, ..., 1.9552597e-01,\n",
       "        1.8768299e-01, 8.3257437e-02],\n",
       "       [2.0883291e-03, 3.3472154e-02, 1.5612526e-01, ..., 4.2170163e-02,\n",
       "        4.5194510e-02, 3.4857854e-02],\n",
       "       [4.3115348e-01, 3.7250689e-01, 3.6474612e-02, ..., 1.8168535e-02,\n",
       "        4.1065846e-02, 5.3389169e-02],\n",
       "       ...,\n",
       "       [4.5220542e-05, 6.8627734e-04, 1.6294400e-03, ..., 9.4887853e-02,\n",
       "        7.0669979e-01, 1.6289328e-01],\n",
       "       [1.3113488e-03, 1.4375164e-02, 1.5995732e-02, ..., 2.6696950e-01,\n",
       "        4.7026637e-01, 6.1908957e-02],\n",
       "       [6.4188667e-02, 5.3171778e-01, 1.2458898e-01, ..., 2.7727304e-02,\n",
       "        7.0491441e-02, 9.3126282e-02]], dtype=float32)"
      ]
     },
     "execution_count": 35,
     "metadata": {},
     "output_type": "execute_result"
    }
   ],
   "source": [
    "model.predict(dataset_test)"
   ]
  },
  {
   "cell_type": "code",
   "execution_count": 36,
   "id": "4c40557b-97d7-4610-a03b-9a12fc3d3240",
   "metadata": {},
   "outputs": [
    {
     "name": "stdout",
     "output_type": "stream",
     "text": [
      "6/6 [==============================] - 0s 15ms/step\n"
     ]
    }
   ],
   "source": [
    "def inv_log(x):\n",
    "    return np.exp(x) - 1\n",
    "\n",
    "yhat= model.predict(dataset_test)"
   ]
  },
  {
   "cell_type": "code",
   "execution_count": 37,
   "id": "4af7c0ec-c3a1-4fbe-bafb-6afa3323f3ce",
   "metadata": {},
   "outputs": [],
   "source": [
    "y_test = pd.Series([np.argmax(x) for x in y_test])"
   ]
  },
  {
   "cell_type": "code",
   "execution_count": 38,
   "id": "31e6f84f-d40d-45a7-85bf-2d28ae4655f9",
   "metadata": {
    "scrolled": true
   },
   "outputs": [
    {
     "data": {
      "text/plain": [
       "6    12626\n",
       "3    10799\n",
       "4     7611\n",
       "2     7362\n",
       "7     6513\n",
       "0     6504\n",
       "1     6113\n",
       "5     1524\n",
       "Name: count, dtype: int64"
      ]
     },
     "execution_count": 38,
     "metadata": {},
     "output_type": "execute_result"
    }
   ],
   "source": [
    "yhat = [np.argmax(x) for x in yhat]\n",
    "\n",
    "pd.Series(yhat).value_counts()"
   ]
  },
  {
   "cell_type": "code",
   "execution_count": 39,
   "id": "59e79b98-afa5-4d2d-9dda-d445b5434c80",
   "metadata": {},
   "outputs": [
    {
     "data": {
      "text/plain": [
       "0    59052\n",
       "Name: count, dtype: int64"
      ]
     },
     "execution_count": 39,
     "metadata": {},
     "output_type": "execute_result"
    }
   ],
   "source": [
    "pd.Series(y_test).value_counts()"
   ]
  },
  {
   "cell_type": "code",
   "execution_count": 40,
   "id": "7809eedd-8e40-45a2-b51c-ff9d7be90157",
   "metadata": {},
   "outputs": [
    {
     "data": {
      "text/plain": [
       "0.11014021540337329"
      ]
     },
     "execution_count": 40,
     "metadata": {},
     "output_type": "execute_result"
    }
   ],
   "source": [
    "from sklearn.metrics import accuracy_score\n",
    "\n",
    "accuracy_score(y_test, yhat)"
   ]
  },
  {
   "cell_type": "code",
   "execution_count": 31,
   "id": "59a4e7d7-f5f5-41d0-95a4-1f919050967a",
   "metadata": {},
   "outputs": [],
   "source": [
    "# df_limpio.info"
   ]
  },
  {
   "cell_type": "code",
   "execution_count": 32,
   "id": "1ab9678c-2b32-46bf-9230-51e802798198",
   "metadata": {},
   "outputs": [],
   "source": [
    "# # Guarda el DataFrame en un archivo CSV\n",
    "# df_limpio.to_csv('df_limpio.csv', index=False)\n",
    "\n",
    "# # Verifica que el archivo se ha guardado correctamente\n",
    "# print(\"Archivo guardado:\", os.path.isfile('df_limpio.csv'))"
   ]
  }
 ],
 "metadata": {
  "kernelspec": {
   "display_name": "Python 3 (ipykernel)",
   "language": "python",
   "name": "python3"
  },
  "language_info": {
   "codemirror_mode": {
    "name": "ipython",
    "version": 3
   },
   "file_extension": ".py",
   "mimetype": "text/x-python",
   "name": "python",
   "nbconvert_exporter": "python",
   "pygments_lexer": "ipython3",
   "version": "3.11.7"
  }
 },
 "nbformat": 4,
 "nbformat_minor": 5
}
